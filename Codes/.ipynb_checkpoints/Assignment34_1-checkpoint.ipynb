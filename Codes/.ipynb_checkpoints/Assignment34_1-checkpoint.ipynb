{
 "cells": [
  {
   "cell_type": "markdown",
   "metadata": {},
   "source": [
    "# Natural Language Processing - Assignment 3 & 4"
   ]
  },
  {
   "cell_type": "markdown",
   "metadata": {},
   "source": [
    "## Part 1: Tokenization"
   ]
  },
  {
   "cell_type": "code",
   "execution_count": null,
   "metadata": {},
   "outputs": [],
   "source": [
    "import re\n",
    "import sys\n",
    "\n",
    "if __name__ == \"__main__\":\n",
    "    regex_word = re.compile(r\"[a-zA-Z]+\")\n",
    "    regex_punt = re.compile(r\"[,.;''\"\"]\")\n",
    "    regex_email = re.compile(r\"email\")\n",
    "    regex_url = re.compile(r\"url\")\n",
    "    regex_currency = re.compile(r\"currency\")        \n",
    "    regex_name = re.compile(r\"name\")        \n",
    "    regex_hashtag = re.compile(r\"#\")        \n",
    "    regex_mention = re.compile(r\"@\")  \n",
    "    file_name =  sys.argv[1]\n",
    "    if file_name==None:\n",
    "        print(\"Error! Enter name of file to parse\")\n",
    "        print(\"Program will exit...\")\n",
    "        sys.exit()\n",
    "    print(\"Reading from file\",file_name)\n",
    "    "
   ]
  },
  {
   "cell_type": "code",
   "execution_count": 39,
   "metadata": {},
   "outputs": [
    {
     "name": "stdout",
     "output_type": "stream",
     "text": [
      "Reading from file: test.txt\n",
      "This This  is the shop where I I  bought my bike . \n",
      "The The  driver drinks liquor , I I  think someone else ought to drive . \n",
      "I I  would go with you , only I I  have no money . \n",
      "She She  studies grammar . \n",
      "You You  will take money . \n",
      "Was Was  she writing a letter ? \n",
      "The The  peon opened the gate . \n",
      "The The  police studied the stills from the security video . \n",
      "They They  have two houses here , and they have also bought a flat . \n",
      "She She  was singing . \n",
      "My My  name is Bruce . \n",
      "Do Do  no #hate hate me . I I  am just a @TA TA TA. . \n"
     ]
    }
   ],
   "source": [
    "%run tokenizer.py test.txt"
   ]
  }
 ],
 "metadata": {
  "kernelspec": {
   "display_name": "Python 3",
   "language": "python",
   "name": "python3"
  },
  "language_info": {
   "codemirror_mode": {
    "name": "ipython",
    "version": 3
   },
   "file_extension": ".py",
   "mimetype": "text/x-python",
   "name": "python",
   "nbconvert_exporter": "python",
   "pygments_lexer": "ipython3",
   "version": "3.7.4"
  }
 },
 "nbformat": 4,
 "nbformat_minor": 4
}
